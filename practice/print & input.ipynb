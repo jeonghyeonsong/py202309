{
 "cells": [
  {
   "cell_type": "code",
   "execution_count": 3,
   "id": "4b95111b",
   "metadata": {},
   "outputs": [
    {
     "name": "stdout",
     "output_type": "stream",
     "text": [
      "What do you call a bear with no teeth \n",
      "a gummy bear!\n"
     ]
    }
   ],
   "source": [
    "print(\"What do you call a bear with no teeth \\na gummy bear!\")  # 문장 출력"
   ]
  },
  {
   "cell_type": "code",
   "execution_count": 2,
   "id": "4cab941f",
   "metadata": {
    "scrolled": true
   },
   "outputs": [
    {
     "name": "stdout",
     "output_type": "stream",
     "text": [
      "enter your name >>Misoo\n",
      "hello Misoo\n"
     ]
    }
   ],
   "source": [
    "name = input(\"enter your name >>\") # 입력\n",
    "print(\"Hello\",name) # 출력"
   ]
  },
  {
   "cell_type": "code",
   "execution_count": 3,
   "id": "631d9ddf",
   "metadata": {},
   "outputs": [
    {
     "name": "stdout",
     "output_type": "stream",
     "text": [
      "enter your name>>Misoo\n",
      "enter your last name>>Kim\n",
      "Hello Misoo Kim\n"
     ]
    }
   ],
   "source": [
    "name = input(\"enter your name>>\")  # 이름 입력\n",
    "last = input(\"enter your last name>>\") # 성 입력\n",
    "print(\"Hello\",name,last) # 출력"
   ]
  },
  {
   "cell_type": "code",
   "execution_count": 14,
   "id": "0be50df2",
   "metadata": {
    "scrolled": true
   },
   "outputs": [
    {
     "name": "stdout",
     "output_type": "stream",
     "text": [
      "enter the first number>>10\n",
      "enter the second number>>30\n",
      "40\n"
     ]
    }
   ],
   "source": [
    "a = int(input(\"enter the first number>>\")) # 함수 a 입력\n",
    "b = int(input(\"enter the second number>>\")) # 함수 b 입력\n",
    "c = a+b \n",
    "print(c) #출력"
   ]
  },
  {
   "cell_type": "code",
   "execution_count": 16,
   "id": "68fd3f8a",
   "metadata": {},
   "outputs": [
    {
     "name": "stdout",
     "output_type": "stream",
     "text": [
      "enter the first number>>10\n",
      "enter the second number>>20\n",
      "enter the third number>>30\n",
      "610\n",
      "900\n"
     ]
    }
   ],
   "source": [
    "num1 = int(input(\"enter the first number>>\"))  # 첫번째 숫자 입력\n",
    "num2 = int(input(\"enter the second number>>\")) # 두번째 숫자 입력\n",
    "num3 = int(input(\"enter the third number>>\")) # 세번째 숫자 입력\n",
    "print(num1 + num2 * num3) # 연산 결과 출력\n",
    "print((num1 + num2) * num3) # 연산 결과 출력"
   ]
  },
  {
   "cell_type": "code",
   "execution_count": 17,
   "id": "9b33a83f",
   "metadata": {},
   "outputs": [
    {
     "name": "stdout",
     "output_type": "stream",
     "text": [
      "enter the number of slices of pizza you started with>>10\n",
      "how many slices have you eaten>>5\n",
      "You have 5 slicing remain\n"
     ]
    }
   ],
   "source": [
    "amount = int(input(\"enter the number of slices of pizza you started with>>\")) # 피자 갯수 입력\n",
    "eat = int(input(\"how many slices have you eaten>>\")) # 먹은 수\n",
    "print(\"You have\",amount - eat,\"slicing remain\") # 출력"
   ]
  },
  {
   "cell_type": "code",
   "execution_count": null,
   "id": "c552b77b",
   "metadata": {},
   "outputs": [],
   "source": []
  }
 ],
 "metadata": {
  "kernelspec": {
   "display_name": "Python 3 (ipykernel)",
   "language": "python",
   "name": "python3"
  },
  "language_info": {
   "codemirror_mode": {
    "name": "ipython",
    "version": 3
   },
   "file_extension": ".py",
   "mimetype": "text/x-python",
   "name": "python",
   "nbconvert_exporter": "python",
   "pygments_lexer": "ipython3",
   "version": "3.9.7"
  }
 },
 "nbformat": 4,
 "nbformat_minor": 5
}
