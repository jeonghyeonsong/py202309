{
 "cells": [
  {
   "cell_type": "code",
   "execution_count": 3,
   "id": "1e25c81c",
   "metadata": {},
   "outputs": [
    {
     "name": "stdout",
     "output_type": "stream",
     "text": [
      "25\n"
     ]
    }
   ],
   "source": [
    "a = 10\n",
    "b = 15\n",
    "print (a+b)"
   ]
  },
  {
   "cell_type": "code",
   "execution_count": 5,
   "id": "cc376f41",
   "metadata": {},
   "outputs": [
    {
     "name": "stdout",
     "output_type": "stream",
     "text": [
      "helloworld \n"
     ]
    }
   ],
   "source": [
    "text_1 = \"hello\"\n",
    "text_2 = \"world \"\n",
    "print(text_1 + text_2) # plus two  worlds hello world"
   ]
  },
  {
   "cell_type": "code",
   "execution_count": null,
   "id": "c18bef11",
   "metadata": {},
   "outputs": [],
   "source": []
  }
 ],
 "metadata": {
  "kernelspec": {
   "display_name": "Python 3 (ipykernel)",
   "language": "python",
   "name": "python3"
  },
  "language_info": {
   "codemirror_mode": {
    "name": "ipython",
    "version": 3
   },
   "file_extension": ".py",
   "mimetype": "text/x-python",
   "name": "python",
   "nbconvert_exporter": "python",
   "pygments_lexer": "ipython3",
   "version": "3.9.7"
  }
 },
 "nbformat": 4,
 "nbformat_minor": 5
}
