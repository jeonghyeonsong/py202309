{
 "cells": [
  {
   "cell_type": "code",
   "execution_count": 5,
   "id": "99fc947c",
   "metadata": {},
   "outputs": [
    {
     "name": "stdout",
     "output_type": "stream",
     "text": [
      "1.current list = [30, 10, 20, 50, 40]\n",
      "2. append(60) = [30, 10, 20, 50, 40, 60]\n",
      "3. item after pop() = 60\n",
      "4. list after pop() = [30, 10, 20, 50, 40]\n",
      "5.after sort() = [10, 20, 30, 40, 50]\n",
      "6.after reverse() = [50, 40, 30, 20, 10]\n",
      "7. index for 20 = 3\n",
      "8.after insert(2,222) =  4\n",
      "9. after remove(2,222) =  [50, 40, 30, 20, 10]\n",
      "10. after extend([100, 200,100]) =  [50, 40, 30, 20, 10, 100, 200, 100]\n",
      "11. the number of 100 =  2\n"
     ]
    }
   ],
   "source": [
    "sample_list = [30,10,20,50,40]\n",
    "print(\"1.current list =\", sample_list)\n",
    "\n",
    "sample_list.append(60)\n",
    "print(\"2. append(60) =\", sample_list)\n",
    "print(\"3. item after pop() =\", sample_list.pop())\n",
    "print(\"4. list after pop() =\",sample_list)\n",
    "\n",
    "sample_list.sort()\n",
    "print(\"5.after sort() =\",sample_list)\n",
    "\n",
    "sample_list.reverse()\n",
    "print(\"6.after reverse() =\",sample_list)\n",
    "\n",
    "print(\"7. index for 20 =\", sample_list.index(20))\n",
    "\n",
    "sample_list.insert(2,222)\n",
    "print(\"8.after insert(2,222) = \",sample_list.index(20))\n",
    "\n",
    "sample_list.remove(222)\n",
    "print(\"9. after remove(2,222) = \", sample_list)\n",
    "\n",
    "new_list = [100, 200, 100]\n",
    "sample_list.extend(new_list)\n",
    "print(\"10. after extend([100, 200,100]) = \", sample_list)\n",
    "\n",
    "print(\"11. the number of 100 = \", sample_list.count(100))"
   ]
  },
  {
   "cell_type": "code",
   "execution_count": 8,
   "id": "edd8c546",
   "metadata": {},
   "outputs": [
    {
     "name": "stdout",
     "output_type": "stream",
     "text": [
      "turtle bye!\n"
     ]
    }
   ],
   "source": [
    "import turtle\n",
    "t = turtle.Turtle()\n",
    "\n",
    "radius_list = [100,200,50]\n",
    "move = 20\n",
    "t. shape(\"turtle\")\n",
    "\n",
    "for i in range(0, len(radius_list)):\n",
    "    radius=radius_list[i]\n",
    "    t.circle(radius)\n",
    "    t.fd(move)\n",
    "    \n",
    "turtle.done()\n",
    "try:\n",
    "    turtle.bye()\n",
    "except:\n",
    "    print(\"turtle bye!\")"
   ]
  },
  {
   "cell_type": "code",
   "execution_count": 13,
   "id": "cfa41b0d",
   "metadata": {},
   "outputs": [
    {
     "name": "stdout",
     "output_type": "stream",
     "text": [
      "첫번째숫자 입력>>50\n",
      "두번째숫자 입력>>40\n",
      "세번째숫자 입력>>90\n",
      "네번째숫자 입력>>10\n",
      "다섯번째숫자 입력>>30\n",
      "90\n",
      "10\n",
      "44\n"
     ]
    }
   ],
   "source": [
    "list1 = int(input(\"첫번째숫자 입력>>\"))\n",
    "list2 = int(input(\"두번째숫자 입력>>\"))\n",
    "list3 = int(input(\"세번째숫자 입력>>\")) #숫자입력\n",
    "list4 = int(input(\"네번째숫자 입력>>\"))\n",
    "list5 = int(input(\"다섯번째숫자 입력>>\"))\n",
    "list = [list1, list2, list3, list4, list5] # 리스트정리\n",
    "print(max(list))  # 제일 큰수 출력\n",
    "print(min(list))  # 제일 작은수 츌력\n",
    "print((list1 + list2 + list3 + list4 + list5)//5)  # 평균 출력"
   ]
  },
  {
   "cell_type": "code",
   "execution_count": 4,
   "id": "48bed19e",
   "metadata": {
    "scrolled": true
   },
   "outputs": [
    {
     "name": "stdout",
     "output_type": "stream",
     "text": [
      "What is your favorite singer?>>oh my girl\n",
      "['BTS', 'Blackpink', 'oh my girl']\n"
     ]
    }
   ],
   "source": [
    "list2 = input(\"What is your favorite singer?>>\") #좋아하는 가수 입력\n",
    "list1 = ['BTS', 'Blackpink', list2]  # 리스트 \n",
    "print(sorted(list1)) # 정렬"
   ]
  },
  {
   "cell_type": "code",
   "execution_count": 7,
   "id": "a5bc9073",
   "metadata": {},
   "outputs": [
    {
     "name": "stdout",
     "output_type": "stream",
     "text": [
      "('tennis', 'football', 'baseball', 'basketball', 'golf')\n",
      "Please enter one of the sport name from above>>golf\n",
      "golf\n"
     ]
    }
   ],
   "source": [
    "tt1 = ('tennis','football','baseball','basketball','golf')\n",
    "print(tt1)                                                          #운동종목들 정리\n",
    "append = str(input(\"Please enter one of the sport name from above>>\"))    # 입력\n"
   ]
  },
  {
   "cell_type": "code",
   "execution_count": 6,
   "id": "76d7aaa4",
   "metadata": {},
   "outputs": [
    {
     "name": "stdout",
     "output_type": "stream",
     "text": [
      " Enter the 1st item sold Yesterday>>2\n",
      " Enter the 1st item sold Yesterday>>2\n",
      " Enter the 1st item sold Yesterday>>2\n",
      " Enter the 1st item sold Yesterday>>2\n",
      " Enter the 1st item sold Yesterday>>2\n"
     ]
    }
   ],
   "source": [
    "menu = ('Americano','Caffe Latte','Caffe Moca','Iced Tea')\n",
    "first = str(input(\" Enter the 1st item sold Yesterday>>\"))\n",
    "second = str(input(\" Enter the 2st item sold Yesterday>>\"))\n",
    "third = str(input(\" Enter the 3st item sold Yesterday>>\"))\n",
    "fourth = str(input(\" Enter the 4st item sold Yesterday>>\"))\n",
    "fifth = str(input(\" Enter the 5st item sold Yesterday>>\"))\n"
   ]
  }
 ],
 "metadata": {
  "kernelspec": {
   "display_name": "Python 3 (ipykernel)",
   "language": "python",
   "name": "python3"
  },
  "language_info": {
   "codemirror_mode": {
    "name": "ipython",
    "version": 3
   },
   "file_extension": ".py",
   "mimetype": "text/x-python",
   "name": "python",
   "nbconvert_exporter": "python",
   "pygments_lexer": "ipython3",
   "version": "3.11.4"
  }
 },
 "nbformat": 4,
 "nbformat_minor": 5
}
